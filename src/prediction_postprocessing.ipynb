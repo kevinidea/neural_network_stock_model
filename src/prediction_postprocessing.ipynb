{
 "cells": [
  {
   "cell_type": "code",
   "execution_count": 1,
   "id": "dd39fa23-444e-4783-af94-2d6ffa7c142d",
   "metadata": {},
   "outputs": [],
   "source": [
    "import pandas as pd\n",
    "import os\n",
    "import glob"
   ]
  },
  {
   "cell_type": "code",
   "execution_count": 2,
   "id": "d40f40d2-445f-4fbc-bf4d-cb2ae4d29782",
   "metadata": {},
   "outputs": [],
   "source": [
    "# Working directory\n",
    "project_dir = '/zfs/projects/darc/wolee_edehaan_suzienoh-exploratory-ml'\n",
    "os.chdir(project_dir)"
   ]
  },
  {
   "cell_type": "code",
   "execution_count": 3,
   "id": "0b2eddcb-a335-4574-85b2-562562ce837d",
   "metadata": {},
   "outputs": [],
   "source": [
    "def get_prediction_file_paths(directory):\n",
    "    # Use glob to get all csv files in the directory\n",
    "    csv_files = glob.glob(os.path.join(directory, '*prediction*.csv'))\n",
    "    return csv_files"
   ]
  },
  {
   "cell_type": "code",
   "execution_count": 4,
   "id": "f484b3f1-13a0-425d-97ac-3b6c16b38245",
   "metadata": {},
   "outputs": [],
   "source": [
    "def postprocess_predictions(prediction_df, prediction_col='pred', period='month'):\n",
    "    \n",
    "    # Target name based on period\n",
    "    if period == 'quarter':\n",
    "        target = 'retq'\n",
    "    elif period == 'month':\n",
    "        target = 'ret'\n",
    "    else:\n",
    "        raise ValueError(\"period must be 'quarter' or 'month'\")\n",
    "        \n",
    "    prediction_df['prob']=prediction_df[prediction_col]\n",
    "    prediction_df.sort_values('prob', inplace=True)\n",
    "    prediction_df['rank'] = prediction_df.groupby(['date'])['prob'].transform(lambda x: pd.qcut(x.values, 10, labels=False, duplicates='drop'))\n",
    "    prediction_df['port_size'] = prediction_df.groupby(['date','rank'])['mve_m'].transform('sum')\n",
    "    prediction_df['port_ret'] = prediction_df[target] * prediction_df['mve_m']/prediction_df['port_size'] \n",
    "\n",
    "    year_vret = prediction_df.groupby(['date','rank'])['port_ret'].sum()\n",
    "    year_vret = year_vret.reset_index()\n",
    "    \n",
    "    return year_vret"
   ]
  },
  {
   "cell_type": "code",
   "execution_count": 5,
   "id": "1f57077c-3370-4389-a3a1-0d6010260ca0",
   "metadata": {},
   "outputs": [],
   "source": [
    "def create_result(prediction_parent_path, result_file_name=None):\n",
    "    # Get the prediction data paths\n",
    "    prediction_data_paths = get_prediction_file_paths(prediction_parent_path)\n",
    "    \n",
    "    # Postprocess the prediction and append all the results together\n",
    "    results = pd.DataFrame()\n",
    "    for df_path in prediction_data_paths:\n",
    "        df = pd.read_csv(df_path)\n",
    "        year_vret = postprocess_predictions(df)\n",
    "        results = pd.concat([results, year_vret]).reset_index(drop=True)\n",
    "    \n",
    "    # Sort the results\n",
    "    sorted_results = results.sort_values(by=['date', 'rank'],  ascending=[True, True]).reset_index(drop=True)\n",
    "    \n",
    "    # Save the sorted results to the same parent directory if file name is given\n",
    "    if result_file_name:\n",
    "        sorted_results.to_csv(f'{prediction_parent_path}/{result_file_name}', index=False)\n",
    "        \n",
    "    return sorted_results"
   ]
  },
  {
   "cell_type": "code",
   "execution_count": 6,
   "id": "072b23ee-3e9d-4ba6-8559-666f30e98b98",
   "metadata": {},
   "outputs": [],
   "source": [
    "prediction_parent_path = 'kevin/output/prediction/monthly_old_vars'\n",
    "result_file_name = 'result.csv'"
   ]
  },
  {
   "cell_type": "code",
   "execution_count": 7,
   "id": "35cb3681-9f83-45f5-ba80-ba6f9a0d23a8",
   "metadata": {},
   "outputs": [],
   "source": [
    "results = create_result(prediction_parent_path, result_file_name)"
   ]
  },
  {
   "cell_type": "code",
   "execution_count": 8,
   "id": "0d08edfd-d046-4020-98e4-c20e5612d759",
   "metadata": {},
   "outputs": [
    {
     "data": {
      "text/html": [
       "<div>\n",
       "<style scoped>\n",
       "    .dataframe tbody tr th:only-of-type {\n",
       "        vertical-align: middle;\n",
       "    }\n",
       "\n",
       "    .dataframe tbody tr th {\n",
       "        vertical-align: top;\n",
       "    }\n",
       "\n",
       "    .dataframe thead th {\n",
       "        text-align: right;\n",
       "    }\n",
       "</style>\n",
       "<table border=\"1\" class=\"dataframe\">\n",
       "  <thead>\n",
       "    <tr style=\"text-align: right;\">\n",
       "      <th></th>\n",
       "      <th>date</th>\n",
       "      <th>rank</th>\n",
       "      <th>port_ret</th>\n",
       "    </tr>\n",
       "  </thead>\n",
       "  <tbody>\n",
       "    <tr>\n",
       "      <th>0</th>\n",
       "      <td>1985-01</td>\n",
       "      <td>0</td>\n",
       "      <td>0.166679</td>\n",
       "    </tr>\n",
       "    <tr>\n",
       "      <th>1</th>\n",
       "      <td>1985-01</td>\n",
       "      <td>1</td>\n",
       "      <td>0.113476</td>\n",
       "    </tr>\n",
       "    <tr>\n",
       "      <th>2</th>\n",
       "      <td>1985-01</td>\n",
       "      <td>2</td>\n",
       "      <td>0.106049</td>\n",
       "    </tr>\n",
       "    <tr>\n",
       "      <th>3</th>\n",
       "      <td>1985-01</td>\n",
       "      <td>3</td>\n",
       "      <td>0.084016</td>\n",
       "    </tr>\n",
       "    <tr>\n",
       "      <th>4</th>\n",
       "      <td>1985-01</td>\n",
       "      <td>4</td>\n",
       "      <td>0.079557</td>\n",
       "    </tr>\n",
       "    <tr>\n",
       "      <th>...</th>\n",
       "      <td>...</td>\n",
       "      <td>...</td>\n",
       "      <td>...</td>\n",
       "    </tr>\n",
       "    <tr>\n",
       "      <th>3715</th>\n",
       "      <td>2015-12</td>\n",
       "      <td>5</td>\n",
       "      <td>-0.028656</td>\n",
       "    </tr>\n",
       "    <tr>\n",
       "      <th>3716</th>\n",
       "      <td>2015-12</td>\n",
       "      <td>6</td>\n",
       "      <td>-0.024177</td>\n",
       "    </tr>\n",
       "    <tr>\n",
       "      <th>3717</th>\n",
       "      <td>2015-12</td>\n",
       "      <td>7</td>\n",
       "      <td>-0.034986</td>\n",
       "    </tr>\n",
       "    <tr>\n",
       "      <th>3718</th>\n",
       "      <td>2015-12</td>\n",
       "      <td>8</td>\n",
       "      <td>-0.046056</td>\n",
       "    </tr>\n",
       "    <tr>\n",
       "      <th>3719</th>\n",
       "      <td>2015-12</td>\n",
       "      <td>9</td>\n",
       "      <td>-0.076134</td>\n",
       "    </tr>\n",
       "  </tbody>\n",
       "</table>\n",
       "<p>3720 rows × 3 columns</p>\n",
       "</div>"
      ],
      "text/plain": [
       "         date  rank  port_ret\n",
       "0     1985-01     0  0.166679\n",
       "1     1985-01     1  0.113476\n",
       "2     1985-01     2  0.106049\n",
       "3     1985-01     3  0.084016\n",
       "4     1985-01     4  0.079557\n",
       "...       ...   ...       ...\n",
       "3715  2015-12     5 -0.028656\n",
       "3716  2015-12     6 -0.024177\n",
       "3717  2015-12     7 -0.034986\n",
       "3718  2015-12     8 -0.046056\n",
       "3719  2015-12     9 -0.076134\n",
       "\n",
       "[3720 rows x 3 columns]"
      ]
     },
     "execution_count": 8,
     "metadata": {},
     "output_type": "execute_result"
    }
   ],
   "source": [
    "results"
   ]
  },
  {
   "cell_type": "code",
   "execution_count": null,
   "id": "b814dc69-0ef1-4013-aa78-26027141f796",
   "metadata": {},
   "outputs": [],
   "source": []
  }
 ],
 "metadata": {
  "kernelspec": {
   "display_name": "wolee_edehaan_suzienoh_exploratory-ml",
   "language": "python",
   "name": "wolee_edehaan_suzienoh_exploratory-ml"
  },
  "language_info": {
   "codemirror_mode": {
    "name": "ipython",
    "version": 3
   },
   "file_extension": ".py",
   "mimetype": "text/x-python",
   "name": "python",
   "nbconvert_exporter": "python",
   "pygments_lexer": "ipython3",
   "version": "3.10.12"
  }
 },
 "nbformat": 4,
 "nbformat_minor": 5
}
